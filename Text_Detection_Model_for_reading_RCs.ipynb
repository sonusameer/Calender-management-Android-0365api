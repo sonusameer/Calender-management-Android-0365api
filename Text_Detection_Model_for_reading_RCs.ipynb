{
  "nbformat": 4,
  "nbformat_minor": 0,
  "metadata": {
    "colab": {
      "name": "Text_Detection_Model for reading RCs.ipynb",
      "provenance": []
    },
    "kernelspec": {
      "name": "python3",
      "display_name": "Python 3"
    },
    "widgets": {
      "application/vnd.jupyter.widget-state+json": {
        "e8d6c9c06d3249938a3076e31c5c7175": {
          "model_module": "@jupyter-widgets/controls",
          "model_name": "HBoxModel",
          "state": {
            "_view_name": "HBoxView",
            "_dom_classes": [],
            "_model_name": "HBoxModel",
            "_view_module": "@jupyter-widgets/controls",
            "_model_module_version": "1.5.0",
            "_view_count": null,
            "_view_module_version": "1.5.0",
            "box_style": "",
            "layout": "IPY_MODEL_733b4d33c6fa407f8e301d9a7c7ac6af",
            "_model_module": "@jupyter-widgets/controls",
            "children": [
              "IPY_MODEL_4b1db715f5594f8095ed04ef680ed977",
              "IPY_MODEL_58f31fa9c9e846cc9f8cc84fd90147ef"
            ]
          }
        },
        "733b4d33c6fa407f8e301d9a7c7ac6af": {
          "model_module": "@jupyter-widgets/base",
          "model_name": "LayoutModel",
          "state": {
            "_view_name": "LayoutView",
            "grid_template_rows": null,
            "right": null,
            "justify_content": null,
            "_view_module": "@jupyter-widgets/base",
            "overflow": null,
            "_model_module_version": "1.2.0",
            "_view_count": null,
            "flex_flow": null,
            "width": null,
            "min_width": null,
            "border": null,
            "align_items": null,
            "bottom": null,
            "_model_module": "@jupyter-widgets/base",
            "top": null,
            "grid_column": null,
            "overflow_y": null,
            "overflow_x": null,
            "grid_auto_flow": null,
            "grid_area": null,
            "grid_template_columns": null,
            "flex": null,
            "_model_name": "LayoutModel",
            "justify_items": null,
            "grid_row": null,
            "max_height": null,
            "align_content": null,
            "visibility": null,
            "align_self": null,
            "height": null,
            "min_height": null,
            "padding": null,
            "grid_auto_rows": null,
            "grid_gap": null,
            "max_width": null,
            "order": null,
            "_view_module_version": "1.2.0",
            "grid_template_areas": null,
            "object_position": null,
            "object_fit": null,
            "grid_auto_columns": null,
            "margin": null,
            "display": null,
            "left": null
          }
        },
        "4b1db715f5594f8095ed04ef680ed977": {
          "model_module": "@jupyter-widgets/controls",
          "model_name": "IntProgressModel",
          "state": {
            "_view_name": "ProgressView",
            "style": "IPY_MODEL_7051b80b1b7348a3893d974876b13394",
            "_dom_classes": [],
            "description": "",
            "_model_name": "IntProgressModel",
            "bar_style": "info",
            "max": 1,
            "_view_module": "@jupyter-widgets/controls",
            "_model_module_version": "1.5.0",
            "value": 1,
            "_view_count": null,
            "_view_module_version": "1.5.0",
            "orientation": "horizontal",
            "min": 0,
            "description_tooltip": null,
            "_model_module": "@jupyter-widgets/controls",
            "layout": "IPY_MODEL_8790bb89a930416b8070885d8a7980a9"
          }
        },
        "58f31fa9c9e846cc9f8cc84fd90147ef": {
          "model_module": "@jupyter-widgets/controls",
          "model_name": "HTMLModel",
          "state": {
            "_view_name": "HTMLView",
            "style": "IPY_MODEL_91dbe85cfa2840649dd6bf32b8ddfb57",
            "_dom_classes": [],
            "description": "",
            "_model_name": "HTMLModel",
            "placeholder": "​",
            "_view_module": "@jupyter-widgets/controls",
            "_model_module_version": "1.5.0",
            "value": " 9920512/? [00:20&lt;00:00, 1134892.61it/s]",
            "_view_count": null,
            "_view_module_version": "1.5.0",
            "description_tooltip": null,
            "_model_module": "@jupyter-widgets/controls",
            "layout": "IPY_MODEL_4bf687b86da443af9b87276cd931b719"
          }
        },
        "7051b80b1b7348a3893d974876b13394": {
          "model_module": "@jupyter-widgets/controls",
          "model_name": "ProgressStyleModel",
          "state": {
            "_view_name": "StyleView",
            "_model_name": "ProgressStyleModel",
            "description_width": "initial",
            "_view_module": "@jupyter-widgets/base",
            "_model_module_version": "1.5.0",
            "_view_count": null,
            "_view_module_version": "1.2.0",
            "bar_color": null,
            "_model_module": "@jupyter-widgets/controls"
          }
        },
        "8790bb89a930416b8070885d8a7980a9": {
          "model_module": "@jupyter-widgets/base",
          "model_name": "LayoutModel",
          "state": {
            "_view_name": "LayoutView",
            "grid_template_rows": null,
            "right": null,
            "justify_content": null,
            "_view_module": "@jupyter-widgets/base",
            "overflow": null,
            "_model_module_version": "1.2.0",
            "_view_count": null,
            "flex_flow": null,
            "width": null,
            "min_width": null,
            "border": null,
            "align_items": null,
            "bottom": null,
            "_model_module": "@jupyter-widgets/base",
            "top": null,
            "grid_column": null,
            "overflow_y": null,
            "overflow_x": null,
            "grid_auto_flow": null,
            "grid_area": null,
            "grid_template_columns": null,
            "flex": null,
            "_model_name": "LayoutModel",
            "justify_items": null,
            "grid_row": null,
            "max_height": null,
            "align_content": null,
            "visibility": null,
            "align_self": null,
            "height": null,
            "min_height": null,
            "padding": null,
            "grid_auto_rows": null,
            "grid_gap": null,
            "max_width": null,
            "order": null,
            "_view_module_version": "1.2.0",
            "grid_template_areas": null,
            "object_position": null,
            "object_fit": null,
            "grid_auto_columns": null,
            "margin": null,
            "display": null,
            "left": null
          }
        },
        "91dbe85cfa2840649dd6bf32b8ddfb57": {
          "model_module": "@jupyter-widgets/controls",
          "model_name": "DescriptionStyleModel",
          "state": {
            "_view_name": "StyleView",
            "_model_name": "DescriptionStyleModel",
            "description_width": "",
            "_view_module": "@jupyter-widgets/base",
            "_model_module_version": "1.5.0",
            "_view_count": null,
            "_view_module_version": "1.2.0",
            "_model_module": "@jupyter-widgets/controls"
          }
        },
        "4bf687b86da443af9b87276cd931b719": {
          "model_module": "@jupyter-widgets/base",
          "model_name": "LayoutModel",
          "state": {
            "_view_name": "LayoutView",
            "grid_template_rows": null,
            "right": null,
            "justify_content": null,
            "_view_module": "@jupyter-widgets/base",
            "overflow": null,
            "_model_module_version": "1.2.0",
            "_view_count": null,
            "flex_flow": null,
            "width": null,
            "min_width": null,
            "border": null,
            "align_items": null,
            "bottom": null,
            "_model_module": "@jupyter-widgets/base",
            "top": null,
            "grid_column": null,
            "overflow_y": null,
            "overflow_x": null,
            "grid_auto_flow": null,
            "grid_area": null,
            "grid_template_columns": null,
            "flex": null,
            "_model_name": "LayoutModel",
            "justify_items": null,
            "grid_row": null,
            "max_height": null,
            "align_content": null,
            "visibility": null,
            "align_self": null,
            "height": null,
            "min_height": null,
            "padding": null,
            "grid_auto_rows": null,
            "grid_gap": null,
            "max_width": null,
            "order": null,
            "_view_module_version": "1.2.0",
            "grid_template_areas": null,
            "object_position": null,
            "object_fit": null,
            "grid_auto_columns": null,
            "margin": null,
            "display": null,
            "left": null
          }
        },
        "830e8855c26e4ee98892b8ca0a445a0c": {
          "model_module": "@jupyter-widgets/controls",
          "model_name": "HBoxModel",
          "state": {
            "_view_name": "HBoxView",
            "_dom_classes": [],
            "_model_name": "HBoxModel",
            "_view_module": "@jupyter-widgets/controls",
            "_model_module_version": "1.5.0",
            "_view_count": null,
            "_view_module_version": "1.5.0",
            "box_style": "",
            "layout": "IPY_MODEL_f70ab201883646fd8918a70c5921d877",
            "_model_module": "@jupyter-widgets/controls",
            "children": [
              "IPY_MODEL_ace88cbe627146ccb553a3fa4a0b401f",
              "IPY_MODEL_c446acc91d914b3ea461ac25c46856fa"
            ]
          }
        },
        "f70ab201883646fd8918a70c5921d877": {
          "model_module": "@jupyter-widgets/base",
          "model_name": "LayoutModel",
          "state": {
            "_view_name": "LayoutView",
            "grid_template_rows": null,
            "right": null,
            "justify_content": null,
            "_view_module": "@jupyter-widgets/base",
            "overflow": null,
            "_model_module_version": "1.2.0",
            "_view_count": null,
            "flex_flow": null,
            "width": null,
            "min_width": null,
            "border": null,
            "align_items": null,
            "bottom": null,
            "_model_module": "@jupyter-widgets/base",
            "top": null,
            "grid_column": null,
            "overflow_y": null,
            "overflow_x": null,
            "grid_auto_flow": null,
            "grid_area": null,
            "grid_template_columns": null,
            "flex": null,
            "_model_name": "LayoutModel",
            "justify_items": null,
            "grid_row": null,
            "max_height": null,
            "align_content": null,
            "visibility": null,
            "align_self": null,
            "height": null,
            "min_height": null,
            "padding": null,
            "grid_auto_rows": null,
            "grid_gap": null,
            "max_width": null,
            "order": null,
            "_view_module_version": "1.2.0",
            "grid_template_areas": null,
            "object_position": null,
            "object_fit": null,
            "grid_auto_columns": null,
            "margin": null,
            "display": null,
            "left": null
          }
        },
        "ace88cbe627146ccb553a3fa4a0b401f": {
          "model_module": "@jupyter-widgets/controls",
          "model_name": "IntProgressModel",
          "state": {
            "_view_name": "ProgressView",
            "style": "IPY_MODEL_5ab7c99bb6ef483ab1bb1f12f4e239db",
            "_dom_classes": [],
            "description": "",
            "_model_name": "IntProgressModel",
            "bar_style": "success",
            "max": 1,
            "_view_module": "@jupyter-widgets/controls",
            "_model_module_version": "1.5.0",
            "value": 1,
            "_view_count": null,
            "_view_module_version": "1.5.0",
            "orientation": "horizontal",
            "min": 0,
            "description_tooltip": null,
            "_model_module": "@jupyter-widgets/controls",
            "layout": "IPY_MODEL_e59eecc7b8a94b8ebe80389c1fe248e3"
          }
        },
        "c446acc91d914b3ea461ac25c46856fa": {
          "model_module": "@jupyter-widgets/controls",
          "model_name": "HTMLModel",
          "state": {
            "_view_name": "HTMLView",
            "style": "IPY_MODEL_3ed64613ec7749c68c5c178a8a7cbdc0",
            "_dom_classes": [],
            "description": "",
            "_model_name": "HTMLModel",
            "placeholder": "​",
            "_view_module": "@jupyter-widgets/controls",
            "_model_module_version": "1.5.0",
            "value": " 32768/? [00:00&lt;00:00, 116964.34it/s]",
            "_view_count": null,
            "_view_module_version": "1.5.0",
            "description_tooltip": null,
            "_model_module": "@jupyter-widgets/controls",
            "layout": "IPY_MODEL_acef4ab1865d4d258878ab6528effa25"
          }
        },
        "5ab7c99bb6ef483ab1bb1f12f4e239db": {
          "model_module": "@jupyter-widgets/controls",
          "model_name": "ProgressStyleModel",
          "state": {
            "_view_name": "StyleView",
            "_model_name": "ProgressStyleModel",
            "description_width": "initial",
            "_view_module": "@jupyter-widgets/base",
            "_model_module_version": "1.5.0",
            "_view_count": null,
            "_view_module_version": "1.2.0",
            "bar_color": null,
            "_model_module": "@jupyter-widgets/controls"
          }
        },
        "e59eecc7b8a94b8ebe80389c1fe248e3": {
          "model_module": "@jupyter-widgets/base",
          "model_name": "LayoutModel",
          "state": {
            "_view_name": "LayoutView",
            "grid_template_rows": null,
            "right": null,
            "justify_content": null,
            "_view_module": "@jupyter-widgets/base",
            "overflow": null,
            "_model_module_version": "1.2.0",
            "_view_count": null,
            "flex_flow": null,
            "width": null,
            "min_width": null,
            "border": null,
            "align_items": null,
            "bottom": null,
            "_model_module": "@jupyter-widgets/base",
            "top": null,
            "grid_column": null,
            "overflow_y": null,
            "overflow_x": null,
            "grid_auto_flow": null,
            "grid_area": null,
            "grid_template_columns": null,
            "flex": null,
            "_model_name": "LayoutModel",
            "justify_items": null,
            "grid_row": null,
            "max_height": null,
            "align_content": null,
            "visibility": null,
            "align_self": null,
            "height": null,
            "min_height": null,
            "padding": null,
            "grid_auto_rows": null,
            "grid_gap": null,
            "max_width": null,
            "order": null,
            "_view_module_version": "1.2.0",
            "grid_template_areas": null,
            "object_position": null,
            "object_fit": null,
            "grid_auto_columns": null,
            "margin": null,
            "display": null,
            "left": null
          }
        },
        "3ed64613ec7749c68c5c178a8a7cbdc0": {
          "model_module": "@jupyter-widgets/controls",
          "model_name": "DescriptionStyleModel",
          "state": {
            "_view_name": "StyleView",
            "_model_name": "DescriptionStyleModel",
            "description_width": "",
            "_view_module": "@jupyter-widgets/base",
            "_model_module_version": "1.5.0",
            "_view_count": null,
            "_view_module_version": "1.2.0",
            "_model_module": "@jupyter-widgets/controls"
          }
        },
        "acef4ab1865d4d258878ab6528effa25": {
          "model_module": "@jupyter-widgets/base",
          "model_name": "LayoutModel",
          "state": {
            "_view_name": "LayoutView",
            "grid_template_rows": null,
            "right": null,
            "justify_content": null,
            "_view_module": "@jupyter-widgets/base",
            "overflow": null,
            "_model_module_version": "1.2.0",
            "_view_count": null,
            "flex_flow": null,
            "width": null,
            "min_width": null,
            "border": null,
            "align_items": null,
            "bottom": null,
            "_model_module": "@jupyter-widgets/base",
            "top": null,
            "grid_column": null,
            "overflow_y": null,
            "overflow_x": null,
            "grid_auto_flow": null,
            "grid_area": null,
            "grid_template_columns": null,
            "flex": null,
            "_model_name": "LayoutModel",
            "justify_items": null,
            "grid_row": null,
            "max_height": null,
            "align_content": null,
            "visibility": null,
            "align_self": null,
            "height": null,
            "min_height": null,
            "padding": null,
            "grid_auto_rows": null,
            "grid_gap": null,
            "max_width": null,
            "order": null,
            "_view_module_version": "1.2.0",
            "grid_template_areas": null,
            "object_position": null,
            "object_fit": null,
            "grid_auto_columns": null,
            "margin": null,
            "display": null,
            "left": null
          }
        },
        "b78d96709b4e44c5aff5ecf2d29e8be1": {
          "model_module": "@jupyter-widgets/controls",
          "model_name": "HBoxModel",
          "state": {
            "_view_name": "HBoxView",
            "_dom_classes": [],
            "_model_name": "HBoxModel",
            "_view_module": "@jupyter-widgets/controls",
            "_model_module_version": "1.5.0",
            "_view_count": null,
            "_view_module_version": "1.5.0",
            "box_style": "",
            "layout": "IPY_MODEL_bf6d31d68eed42c1aeca85b323fdf100",
            "_model_module": "@jupyter-widgets/controls",
            "children": [
              "IPY_MODEL_c2bce28dae7b455c871e50d55fbef206",
              "IPY_MODEL_7df0c0152a764eb2b8d3d8ace8a30159"
            ]
          }
        },
        "bf6d31d68eed42c1aeca85b323fdf100": {
          "model_module": "@jupyter-widgets/base",
          "model_name": "LayoutModel",
          "state": {
            "_view_name": "LayoutView",
            "grid_template_rows": null,
            "right": null,
            "justify_content": null,
            "_view_module": "@jupyter-widgets/base",
            "overflow": null,
            "_model_module_version": "1.2.0",
            "_view_count": null,
            "flex_flow": null,
            "width": null,
            "min_width": null,
            "border": null,
            "align_items": null,
            "bottom": null,
            "_model_module": "@jupyter-widgets/base",
            "top": null,
            "grid_column": null,
            "overflow_y": null,
            "overflow_x": null,
            "grid_auto_flow": null,
            "grid_area": null,
            "grid_template_columns": null,
            "flex": null,
            "_model_name": "LayoutModel",
            "justify_items": null,
            "grid_row": null,
            "max_height": null,
            "align_content": null,
            "visibility": null,
            "align_self": null,
            "height": null,
            "min_height": null,
            "padding": null,
            "grid_auto_rows": null,
            "grid_gap": null,
            "max_width": null,
            "order": null,
            "_view_module_version": "1.2.0",
            "grid_template_areas": null,
            "object_position": null,
            "object_fit": null,
            "grid_auto_columns": null,
            "margin": null,
            "display": null,
            "left": null
          }
        },
        "c2bce28dae7b455c871e50d55fbef206": {
          "model_module": "@jupyter-widgets/controls",
          "model_name": "IntProgressModel",
          "state": {
            "_view_name": "ProgressView",
            "style": "IPY_MODEL_63c5399dffbb4290bc202b4f95b9ff4e",
            "_dom_classes": [],
            "description": "",
            "_model_name": "IntProgressModel",
            "bar_style": "info",
            "max": 1,
            "_view_module": "@jupyter-widgets/controls",
            "_model_module_version": "1.5.0",
            "value": 1,
            "_view_count": null,
            "_view_module_version": "1.5.0",
            "orientation": "horizontal",
            "min": 0,
            "description_tooltip": null,
            "_model_module": "@jupyter-widgets/controls",
            "layout": "IPY_MODEL_7b07e8929836473cbbea6f2b8e8bb3ab"
          }
        },
        "7df0c0152a764eb2b8d3d8ace8a30159": {
          "model_module": "@jupyter-widgets/controls",
          "model_name": "HTMLModel",
          "state": {
            "_view_name": "HTMLView",
            "style": "IPY_MODEL_84deadf80da84c539b1a4c8c8e23490f",
            "_dom_classes": [],
            "description": "",
            "_model_name": "HTMLModel",
            "placeholder": "​",
            "_view_module": "@jupyter-widgets/controls",
            "_model_module_version": "1.5.0",
            "value": " 1654784/? [00:18&lt;00:00, 551924.70it/s]",
            "_view_count": null,
            "_view_module_version": "1.5.0",
            "description_tooltip": null,
            "_model_module": "@jupyter-widgets/controls",
            "layout": "IPY_MODEL_6ef29b5457bf4d81a60f6b5de2d55057"
          }
        },
        "63c5399dffbb4290bc202b4f95b9ff4e": {
          "model_module": "@jupyter-widgets/controls",
          "model_name": "ProgressStyleModel",
          "state": {
            "_view_name": "StyleView",
            "_model_name": "ProgressStyleModel",
            "description_width": "initial",
            "_view_module": "@jupyter-widgets/base",
            "_model_module_version": "1.5.0",
            "_view_count": null,
            "_view_module_version": "1.2.0",
            "bar_color": null,
            "_model_module": "@jupyter-widgets/controls"
          }
        },
        "7b07e8929836473cbbea6f2b8e8bb3ab": {
          "model_module": "@jupyter-widgets/base",
          "model_name": "LayoutModel",
          "state": {
            "_view_name": "LayoutView",
            "grid_template_rows": null,
            "right": null,
            "justify_content": null,
            "_view_module": "@jupyter-widgets/base",
            "overflow": null,
            "_model_module_version": "1.2.0",
            "_view_count": null,
            "flex_flow": null,
            "width": null,
            "min_width": null,
            "border": null,
            "align_items": null,
            "bottom": null,
            "_model_module": "@jupyter-widgets/base",
            "top": null,
            "grid_column": null,
            "overflow_y": null,
            "overflow_x": null,
            "grid_auto_flow": null,
            "grid_area": null,
            "grid_template_columns": null,
            "flex": null,
            "_model_name": "LayoutModel",
            "justify_items": null,
            "grid_row": null,
            "max_height": null,
            "align_content": null,
            "visibility": null,
            "align_self": null,
            "height": null,
            "min_height": null,
            "padding": null,
            "grid_auto_rows": null,
            "grid_gap": null,
            "max_width": null,
            "order": null,
            "_view_module_version": "1.2.0",
            "grid_template_areas": null,
            "object_position": null,
            "object_fit": null,
            "grid_auto_columns": null,
            "margin": null,
            "display": null,
            "left": null
          }
        },
        "84deadf80da84c539b1a4c8c8e23490f": {
          "model_module": "@jupyter-widgets/controls",
          "model_name": "DescriptionStyleModel",
          "state": {
            "_view_name": "StyleView",
            "_model_name": "DescriptionStyleModel",
            "description_width": "",
            "_view_module": "@jupyter-widgets/base",
            "_model_module_version": "1.5.0",
            "_view_count": null,
            "_view_module_version": "1.2.0",
            "_model_module": "@jupyter-widgets/controls"
          }
        },
        "6ef29b5457bf4d81a60f6b5de2d55057": {
          "model_module": "@jupyter-widgets/base",
          "model_name": "LayoutModel",
          "state": {
            "_view_name": "LayoutView",
            "grid_template_rows": null,
            "right": null,
            "justify_content": null,
            "_view_module": "@jupyter-widgets/base",
            "overflow": null,
            "_model_module_version": "1.2.0",
            "_view_count": null,
            "flex_flow": null,
            "width": null,
            "min_width": null,
            "border": null,
            "align_items": null,
            "bottom": null,
            "_model_module": "@jupyter-widgets/base",
            "top": null,
            "grid_column": null,
            "overflow_y": null,
            "overflow_x": null,
            "grid_auto_flow": null,
            "grid_area": null,
            "grid_template_columns": null,
            "flex": null,
            "_model_name": "LayoutModel",
            "justify_items": null,
            "grid_row": null,
            "max_height": null,
            "align_content": null,
            "visibility": null,
            "align_self": null,
            "height": null,
            "min_height": null,
            "padding": null,
            "grid_auto_rows": null,
            "grid_gap": null,
            "max_width": null,
            "order": null,
            "_view_module_version": "1.2.0",
            "grid_template_areas": null,
            "object_position": null,
            "object_fit": null,
            "grid_auto_columns": null,
            "margin": null,
            "display": null,
            "left": null
          }
        },
        "e2c4fc43277440ffb3d282c8dd033d0f": {
          "model_module": "@jupyter-widgets/controls",
          "model_name": "HBoxModel",
          "state": {
            "_view_name": "HBoxView",
            "_dom_classes": [],
            "_model_name": "HBoxModel",
            "_view_module": "@jupyter-widgets/controls",
            "_model_module_version": "1.5.0",
            "_view_count": null,
            "_view_module_version": "1.5.0",
            "box_style": "",
            "layout": "IPY_MODEL_4837e5ea1c394fde9b849b80cf2a462b",
            "_model_module": "@jupyter-widgets/controls",
            "children": [
              "IPY_MODEL_d7b1fed5d9484998b3252d8d63654dbc",
              "IPY_MODEL_38f2921e5f0e461688d40084f49fbef6"
            ]
          }
        },
        "4837e5ea1c394fde9b849b80cf2a462b": {
          "model_module": "@jupyter-widgets/base",
          "model_name": "LayoutModel",
          "state": {
            "_view_name": "LayoutView",
            "grid_template_rows": null,
            "right": null,
            "justify_content": null,
            "_view_module": "@jupyter-widgets/base",
            "overflow": null,
            "_model_module_version": "1.2.0",
            "_view_count": null,
            "flex_flow": null,
            "width": null,
            "min_width": null,
            "border": null,
            "align_items": null,
            "bottom": null,
            "_model_module": "@jupyter-widgets/base",
            "top": null,
            "grid_column": null,
            "overflow_y": null,
            "overflow_x": null,
            "grid_auto_flow": null,
            "grid_area": null,
            "grid_template_columns": null,
            "flex": null,
            "_model_name": "LayoutModel",
            "justify_items": null,
            "grid_row": null,
            "max_height": null,
            "align_content": null,
            "visibility": null,
            "align_self": null,
            "height": null,
            "min_height": null,
            "padding": null,
            "grid_auto_rows": null,
            "grid_gap": null,
            "max_width": null,
            "order": null,
            "_view_module_version": "1.2.0",
            "grid_template_areas": null,
            "object_position": null,
            "object_fit": null,
            "grid_auto_columns": null,
            "margin": null,
            "display": null,
            "left": null
          }
        },
        "d7b1fed5d9484998b3252d8d63654dbc": {
          "model_module": "@jupyter-widgets/controls",
          "model_name": "IntProgressModel",
          "state": {
            "_view_name": "ProgressView",
            "style": "IPY_MODEL_d1b64860c3ea4e168ccc6c69186a9151",
            "_dom_classes": [],
            "description": "  0%",
            "_model_name": "IntProgressModel",
            "bar_style": "info",
            "max": 1,
            "_view_module": "@jupyter-widgets/controls",
            "_model_module_version": "1.5.0",
            "value": 0,
            "_view_count": null,
            "_view_module_version": "1.5.0",
            "orientation": "horizontal",
            "min": 0,
            "description_tooltip": null,
            "_model_module": "@jupyter-widgets/controls",
            "layout": "IPY_MODEL_b8a640da79ae49b7aaa0c0c12f10cfc8"
          }
        },
        "38f2921e5f0e461688d40084f49fbef6": {
          "model_module": "@jupyter-widgets/controls",
          "model_name": "HTMLModel",
          "state": {
            "_view_name": "HTMLView",
            "style": "IPY_MODEL_704b5be16a634d17b2e5dabaec35d855",
            "_dom_classes": [],
            "description": "",
            "_model_name": "HTMLModel",
            "placeholder": "​",
            "_view_module": "@jupyter-widgets/controls",
            "_model_module_version": "1.5.0",
            "value": " 0/4542 [00:00&lt;?, ?it/s]",
            "_view_count": null,
            "_view_module_version": "1.5.0",
            "description_tooltip": null,
            "_model_module": "@jupyter-widgets/controls",
            "layout": "IPY_MODEL_d2a4dfedb9b3458c9f6207a9f909c908"
          }
        },
        "d1b64860c3ea4e168ccc6c69186a9151": {
          "model_module": "@jupyter-widgets/controls",
          "model_name": "ProgressStyleModel",
          "state": {
            "_view_name": "StyleView",
            "_model_name": "ProgressStyleModel",
            "description_width": "initial",
            "_view_module": "@jupyter-widgets/base",
            "_model_module_version": "1.5.0",
            "_view_count": null,
            "_view_module_version": "1.2.0",
            "bar_color": null,
            "_model_module": "@jupyter-widgets/controls"
          }
        },
        "b8a640da79ae49b7aaa0c0c12f10cfc8": {
          "model_module": "@jupyter-widgets/base",
          "model_name": "LayoutModel",
          "state": {
            "_view_name": "LayoutView",
            "grid_template_rows": null,
            "right": null,
            "justify_content": null,
            "_view_module": "@jupyter-widgets/base",
            "overflow": null,
            "_model_module_version": "1.2.0",
            "_view_count": null,
            "flex_flow": null,
            "width": null,
            "min_width": null,
            "border": null,
            "align_items": null,
            "bottom": null,
            "_model_module": "@jupyter-widgets/base",
            "top": null,
            "grid_column": null,
            "overflow_y": null,
            "overflow_x": null,
            "grid_auto_flow": null,
            "grid_area": null,
            "grid_template_columns": null,
            "flex": null,
            "_model_name": "LayoutModel",
            "justify_items": null,
            "grid_row": null,
            "max_height": null,
            "align_content": null,
            "visibility": null,
            "align_self": null,
            "height": null,
            "min_height": null,
            "padding": null,
            "grid_auto_rows": null,
            "grid_gap": null,
            "max_width": null,
            "order": null,
            "_view_module_version": "1.2.0",
            "grid_template_areas": null,
            "object_position": null,
            "object_fit": null,
            "grid_auto_columns": null,
            "margin": null,
            "display": null,
            "left": null
          }
        },
        "704b5be16a634d17b2e5dabaec35d855": {
          "model_module": "@jupyter-widgets/controls",
          "model_name": "DescriptionStyleModel",
          "state": {
            "_view_name": "StyleView",
            "_model_name": "DescriptionStyleModel",
            "description_width": "",
            "_view_module": "@jupyter-widgets/base",
            "_model_module_version": "1.5.0",
            "_view_count": null,
            "_view_module_version": "1.2.0",
            "_model_module": "@jupyter-widgets/controls"
          }
        },
        "d2a4dfedb9b3458c9f6207a9f909c908": {
          "model_module": "@jupyter-widgets/base",
          "model_name": "LayoutModel",
          "state": {
            "_view_name": "LayoutView",
            "grid_template_rows": null,
            "right": null,
            "justify_content": null,
            "_view_module": "@jupyter-widgets/base",
            "overflow": null,
            "_model_module_version": "1.2.0",
            "_view_count": null,
            "flex_flow": null,
            "width": null,
            "min_width": null,
            "border": null,
            "align_items": null,
            "bottom": null,
            "_model_module": "@jupyter-widgets/base",
            "top": null,
            "grid_column": null,
            "overflow_y": null,
            "overflow_x": null,
            "grid_auto_flow": null,
            "grid_area": null,
            "grid_template_columns": null,
            "flex": null,
            "_model_name": "LayoutModel",
            "justify_items": null,
            "grid_row": null,
            "max_height": null,
            "align_content": null,
            "visibility": null,
            "align_self": null,
            "height": null,
            "min_height": null,
            "padding": null,
            "grid_auto_rows": null,
            "grid_gap": null,
            "max_width": null,
            "order": null,
            "_view_module_version": "1.2.0",
            "grid_template_areas": null,
            "object_position": null,
            "object_fit": null,
            "grid_auto_columns": null,
            "margin": null,
            "display": null,
            "left": null
          }
        }
      }
    }
  },
  "cells": [
    {
      "cell_type": "markdown",
      "metadata": {
        "id": "pVLN_qo4h4l7",
        "colab_type": "text"
      },
      "source": [
        "![picture](https://drive.google.com/uc?export=view&id=1RgB_1hRKixwGPs9YygTiddlVWEQynFpj)"
      ]
    },
    {
      "cell_type": "code",
      "metadata": {
        "id": "INfevzErXYld",
        "colab_type": "code",
        "colab": {}
      },
      "source": [
        "import torch\n",
        "from torch import optim\n",
        "from torch import nn\n",
        "import torch.nn.functional as F\n",
        "from torchvision import datasets\n",
        "import torchvision.transforms as transforms\n",
        "import numpy as np\n",
        "import matplotlib.pyplot as plt\n",
        "import cv2"
      ],
      "execution_count": 0,
      "outputs": []
    },
    {
      "cell_type": "code",
      "metadata": {
        "id": "kQ8NF_OVXpI1",
        "colab_type": "code",
        "colab": {}
      },
      "source": [
        "use_cuda  = torch.cuda.is_available()"
      ],
      "execution_count": 0,
      "outputs": []
    },
    {
      "cell_type": "code",
      "metadata": {
        "id": "59ZdxA0DXsre",
        "colab_type": "code",
        "colab": {
          "base_uri": "https://localhost:8080/",
          "height": 366,
          "referenced_widgets": [
            "e8d6c9c06d3249938a3076e31c5c7175",
            "733b4d33c6fa407f8e301d9a7c7ac6af",
            "4b1db715f5594f8095ed04ef680ed977",
            "58f31fa9c9e846cc9f8cc84fd90147ef",
            "7051b80b1b7348a3893d974876b13394",
            "8790bb89a930416b8070885d8a7980a9",
            "91dbe85cfa2840649dd6bf32b8ddfb57",
            "4bf687b86da443af9b87276cd931b719",
            "830e8855c26e4ee98892b8ca0a445a0c",
            "f70ab201883646fd8918a70c5921d877",
            "ace88cbe627146ccb553a3fa4a0b401f",
            "c446acc91d914b3ea461ac25c46856fa",
            "5ab7c99bb6ef483ab1bb1f12f4e239db",
            "e59eecc7b8a94b8ebe80389c1fe248e3",
            "3ed64613ec7749c68c5c178a8a7cbdc0",
            "acef4ab1865d4d258878ab6528effa25",
            "b78d96709b4e44c5aff5ecf2d29e8be1",
            "bf6d31d68eed42c1aeca85b323fdf100",
            "c2bce28dae7b455c871e50d55fbef206",
            "7df0c0152a764eb2b8d3d8ace8a30159",
            "63c5399dffbb4290bc202b4f95b9ff4e",
            "7b07e8929836473cbbea6f2b8e8bb3ab",
            "84deadf80da84c539b1a4c8c8e23490f",
            "6ef29b5457bf4d81a60f6b5de2d55057",
            "e2c4fc43277440ffb3d282c8dd033d0f",
            "4837e5ea1c394fde9b849b80cf2a462b",
            "d7b1fed5d9484998b3252d8d63654dbc",
            "38f2921e5f0e461688d40084f49fbef6",
            "d1b64860c3ea4e168ccc6c69186a9151",
            "b8a640da79ae49b7aaa0c0c12f10cfc8",
            "704b5be16a634d17b2e5dabaec35d855",
            "d2a4dfedb9b3458c9f6207a9f909c908"
          ]
        },
        "outputId": "79341c09-7edd-4c89-c7e9-25a2dbe29aa6"
      },
      "source": [
        "transform = transforms.ToTensor()\n",
        "\n",
        "# load the training and test datasets\n",
        "train_data = datasets.MNIST(root='data', train=True,\n",
        "                                   download=True, transform=transform)\n",
        "test_data = datasets.MNIST(root='data', train=False,\n",
        "                                  download=True, transform=transform)\n",
        "\n",
        "# Create training and test dataloaders\n",
        "\n",
        "# number of subprocesses to use for data loading\n",
        "num_workers = 0\n",
        "# how many samples per batch to load\n",
        "batch_size = 16\n",
        "\n",
        "# prepare data loaders\n",
        "train_loader = torch.utils.data.DataLoader(train_data, batch_size=batch_size, num_workers=num_workers, shuffle=True)\n",
        "test_loader = torch.utils.data.DataLoader(test_data, batch_size=batch_size, num_workers=num_workers, shuffle=False)"
      ],
      "execution_count": 3,
      "outputs": [
        {
          "output_type": "stream",
          "text": [
            "Downloading http://yann.lecun.com/exdb/mnist/train-images-idx3-ubyte.gz to data/MNIST/raw/train-images-idx3-ubyte.gz\n"
          ],
          "name": "stdout"
        },
        {
          "output_type": "display_data",
          "data": {
            "application/vnd.jupyter.widget-view+json": {
              "model_id": "e8d6c9c06d3249938a3076e31c5c7175",
              "version_minor": 0,
              "version_major": 2
            },
            "text/plain": [
              "HBox(children=(IntProgress(value=1, bar_style='info', max=1), HTML(value='')))"
            ]
          },
          "metadata": {
            "tags": []
          }
        },
        {
          "output_type": "stream",
          "text": [
            "Extracting data/MNIST/raw/train-images-idx3-ubyte.gz to data/MNIST/raw\n",
            "Downloading http://yann.lecun.com/exdb/mnist/train-labels-idx1-ubyte.gz to data/MNIST/raw/train-labels-idx1-ubyte.gz\n"
          ],
          "name": "stdout"
        },
        {
          "output_type": "display_data",
          "data": {
            "application/vnd.jupyter.widget-view+json": {
              "model_id": "830e8855c26e4ee98892b8ca0a445a0c",
              "version_minor": 0,
              "version_major": 2
            },
            "text/plain": [
              "HBox(children=(IntProgress(value=1, bar_style='info', max=1), HTML(value='')))"
            ]
          },
          "metadata": {
            "tags": []
          }
        },
        {
          "output_type": "stream",
          "text": [
            "Extracting data/MNIST/raw/train-labels-idx1-ubyte.gz to data/MNIST/raw\n",
            "Downloading http://yann.lecun.com/exdb/mnist/t10k-images-idx3-ubyte.gz to data/MNIST/raw/t10k-images-idx3-ubyte.gz\n",
            "\n"
          ],
          "name": "stdout"
        },
        {
          "output_type": "display_data",
          "data": {
            "application/vnd.jupyter.widget-view+json": {
              "model_id": "b78d96709b4e44c5aff5ecf2d29e8be1",
              "version_minor": 0,
              "version_major": 2
            },
            "text/plain": [
              "HBox(children=(IntProgress(value=1, bar_style='info', max=1), HTML(value='')))"
            ]
          },
          "metadata": {
            "tags": []
          }
        },
        {
          "output_type": "stream",
          "text": [
            "Extracting data/MNIST/raw/t10k-images-idx3-ubyte.gz to data/MNIST/raw\n",
            "Downloading http://yann.lecun.com/exdb/mnist/t10k-labels-idx1-ubyte.gz to data/MNIST/raw/t10k-labels-idx1-ubyte.gz\n"
          ],
          "name": "stdout"
        },
        {
          "output_type": "display_data",
          "data": {
            "application/vnd.jupyter.widget-view+json": {
              "model_id": "e2c4fc43277440ffb3d282c8dd033d0f",
              "version_minor": 0,
              "version_major": 2
            },
            "text/plain": [
              "HBox(children=(IntProgress(value=1, bar_style='info', max=1), HTML(value='')))"
            ]
          },
          "metadata": {
            "tags": []
          }
        },
        {
          "output_type": "stream",
          "text": [
            "Extracting data/MNIST/raw/t10k-labels-idx1-ubyte.gz to data/MNIST/raw\n",
            "Processing...\n",
            "Done!\n"
          ],
          "name": "stdout"
        },
        {
          "output_type": "stream",
          "text": [
            "/pytorch/torch/csrc/utils/tensor_numpy.cpp:141: UserWarning: The given NumPy array is not writeable, and PyTorch does not support non-writeable tensors. This means you can write to the underlying (supposedly non-writeable) NumPy array using the tensor. You may want to copy the array to protect its data or make it writeable before converting it to a tensor. This type of warning will be suppressed for the rest of this program.\n"
          ],
          "name": "stderr"
        }
      ]
    },
    {
      "cell_type": "code",
      "metadata": {
        "id": "5q0WhEiaYBaX",
        "colab_type": "code",
        "colab": {}
      },
      "source": [
        "class Model(nn.Module):\n",
        "    def __init__(self):\n",
        "        super(Model, self).__init__()\n",
        "        self.conv1 = nn.Conv2d(1, 32, 5)\n",
        "        self.conv2 = nn.Conv2d(32, 32, 3)\n",
        "        self.conv3 = nn.Conv2d(32, 800, 5)\n",
        "        self.conv4 = nn.Conv2d(800, 800, 1)\n",
        "        self.conv5 = nn.Conv2d(800, 10, 1)\n",
        "        self.pool = nn.MaxPool2d((2,2))\n",
        "    def forward(self, x):\n",
        "        x = F.relu(self.conv1(x))\n",
        "        x = self.pool(x)\n",
        "        x = F.relu(self.conv2(x))\n",
        "        x = self.pool(x)\n",
        "        x = F.relu(self.conv3(x))\n",
        "        x = F.relu(self.conv4(x))\n",
        "        x = self.conv5(x)\n",
        "        \n",
        "        return x\n",
        "        "
      ],
      "execution_count": 0,
      "outputs": []
    },
    {
      "cell_type": "code",
      "metadata": {
        "id": "i1Z4u3pOYE7j",
        "colab_type": "code",
        "colab": {}
      },
      "source": [
        "model = Model()\n",
        "if use_cuda:\n",
        "    model = model.cuda()"
      ],
      "execution_count": 0,
      "outputs": []
    },
    {
      "cell_type": "code",
      "metadata": {
        "id": "nB3M3cR2YIzA",
        "colab_type": "code",
        "colab": {}
      },
      "source": [
        "def train_model(model, train_loader, test_loader, n_epochs):\n",
        "    \n",
        "    # specify loss function (categorical cross-entropy)\n",
        "    criterion = nn.CrossEntropyLoss()\n",
        "    # specify optimizer\n",
        "    optimizer = optim.Adam(model.parameters(), lr=0.001)\n",
        "    min_test_accuracy = 0\n",
        "    for epoch in range(1, n_epochs+1):\n",
        "\n",
        "        # keep track of training and validation loss\n",
        "        train_loss = 0.0\n",
        "        train_accuracy = 0\n",
        "        test_accuracy = 0\n",
        "        ###################\n",
        "        # train the model #\n",
        "        ###################\n",
        "        model.train()\n",
        "        for images, labels in train_loader:\n",
        "            # move tensors to GPU if CUDA is available\n",
        "            if use_cuda:\n",
        "                images = images.cuda()\n",
        "                labels = labels.cuda()\n",
        "            # clear the gradients of all optimized variables\n",
        "            optimizer.zero_grad()\n",
        "            # forward pass: compute predicted outputs by passing inputs to the model\n",
        "            logits = model(images).squeeze()\n",
        "            _, outs_k = logits.topk(1, dim=1)\n",
        "            equals = (outs_k == labels.view(*outs_k.shape))\n",
        "            train_accuracy += torch.mean(equals.type(torch.FloatTensor)).item()\n",
        "            \n",
        "            # calculate the batch loss\n",
        "            loss = criterion(logits, labels)\n",
        "            # backward pass: compute gradient of the loss with respect to model parameters\n",
        "            loss.backward()\n",
        "            # perform a single optimization step (parameter update)\n",
        "            optimizer.step()\n",
        "            # update training loss\n",
        "            train_loss += loss.item()\n",
        "\n",
        "\n",
        "        train_loss = train_loss/len(train_loader)\n",
        "        train_accuracy /= len(train_loader)\n",
        "        ######################\n",
        "        # validate the model #\n",
        "        ######################\n",
        "        model.eval()\n",
        "        for images, labels in test_loader:\n",
        "            if use_cuda:\n",
        "                images = images.cuda()\n",
        "                labels = labels.cuda()\n",
        "            logits = model(images).squeeze()\n",
        "            _, outs_k = logits.topk(1, dim=1)\n",
        "            equals = (outs_k == labels.view(*outs_k.shape))\n",
        "            test_accuracy += torch.mean(equals.type(torch.FloatTensor)).item()\n",
        "        \n",
        "        test_accuracy /= len(test_loader)\n",
        "        print(\"\"\"Epoch: {} \\tTraining Loss: {:.6f} \n",
        "        \\tTrain accuracy: {:.6f} \\Test accuracy: {:.6f}\"\"\".format(\n",
        "            epoch, train_loss,  train_accuracy, test_accuracy))\n",
        "    \n",
        "        # save model if validation accuracy has increased\n",
        "        if test_accuracy >= min_test_accuracy:    \n",
        "            torch.save(model.state_dict(), 'model.pt')\n",
        "            min_test_accuracy = test_accuracy"
      ],
      "execution_count": 0,
      "outputs": []
    },
    {
      "cell_type": "code",
      "metadata": {
        "id": "7ZXHEcTUYLN2",
        "colab_type": "code",
        "colab": {
          "base_uri": "https://localhost:8080/",
          "height": 185
        },
        "outputId": "3fb6cd7c-f263-4e8c-917e-e34eac4ad13f"
      },
      "source": [
        "train_model(model, train_loader, test_loader, 5)"
      ],
      "execution_count": 8,
      "outputs": [
        {
          "output_type": "stream",
          "text": [
            "Epoch: 1 \tTraining Loss: 0.061145 \n",
            "        \tTrain accuracy: 0.982783 \\Test accuracy: 0.985000\n",
            "Epoch: 2 \tTraining Loss: 0.042098 \n",
            "        \tTrain accuracy: 0.987867 \\Test accuracy: 0.989100\n",
            "Epoch: 3 \tTraining Loss: 0.033079 \n",
            "        \tTrain accuracy: 0.990567 \\Test accuracy: 0.989400\n",
            "Epoch: 4 \tTraining Loss: 0.028089 \n",
            "        \tTrain accuracy: 0.992283 \\Test accuracy: 0.986200\n",
            "Epoch: 5 \tTraining Loss: 0.022875 \n",
            "        \tTrain accuracy: 0.993567 \\Test accuracy: 0.987000\n"
          ],
          "name": "stdout"
        }
      ]
    },
    {
      "cell_type": "code",
      "metadata": {
        "id": "YUhPsw2ucVMQ",
        "colab_type": "code",
        "colab": {
          "base_uri": "https://localhost:8080/",
          "height": 151
        },
        "outputId": "91273ffd-0b4e-42ab-f120-13c166aa5235"
      },
      "source": [
        "model.eval()"
      ],
      "execution_count": 9,
      "outputs": [
        {
          "output_type": "execute_result",
          "data": {
            "text/plain": [
              "Model(\n",
              "  (conv1): Conv2d(1, 32, kernel_size=(5, 5), stride=(1, 1))\n",
              "  (conv2): Conv2d(32, 32, kernel_size=(3, 3), stride=(1, 1))\n",
              "  (conv3): Conv2d(32, 800, kernel_size=(5, 5), stride=(1, 1))\n",
              "  (conv4): Conv2d(800, 800, kernel_size=(1, 1), stride=(1, 1))\n",
              "  (conv5): Conv2d(800, 10, kernel_size=(1, 1), stride=(1, 1))\n",
              "  (pool): MaxPool2d(kernel_size=(2, 2), stride=(2, 2), padding=0, dilation=1, ceil_mode=False)\n",
              ")"
            ]
          },
          "metadata": {
            "tags": []
          },
          "execution_count": 9
        }
      ]
    },
    {
      "cell_type": "code",
      "metadata": {
        "id": "VHW0QLBKcZlI",
        "colab_type": "code",
        "colab": {
          "base_uri": "https://localhost:8080/",
          "height": 233
        },
        "outputId": "addea8bb-a53f-41a0-eca6-86611bbfcca0"
      },
      "source": [
        "test_iterator = iter(test_loader)\n",
        "images, labels = test_iterator.next()\n",
        "# send it to gpu if available\n",
        "if use_cuda:\n",
        "    images = images.cuda()\n",
        "    labels = labels.cuda()\n",
        "# get predictions\n",
        "predictions = F.softmax(model(images), dim=1).squeeze()\n",
        "probs , outs = predictions.topk(1, dim=1)\n",
        "\n",
        "# get random images from bacth\n",
        "random_idx = np.random.randint(batch_size)\n",
        "if use_cuda:\n",
        "    image1 = images[random_idx].cpu().detach().numpy().squeeze()\n",
        "    image2 = images[(random_idx+1)%batch_size].cpu().detach().numpy().squeeze()\n",
        "else : \n",
        "    image1 = images[random_idx].numpy().squeeze()\n",
        "    image2 = images[(random_idx+1)%batch_size].numpy().squeeze()    \n",
        "\n",
        "prob1 = probs[random_idx, 0]. item()\n",
        "out1 = outs[random_idx, 0]. item()\n",
        "prob2 = probs[(random_idx+1)%batch_size, 0]. item()\n",
        "out2 = outs[(random_idx+1)%batch_size, 0]. item()\n",
        "\n",
        "# visualise results\n",
        "fig, axs = plt.subplots(1, 2)\n",
        "axs[0].imshow(image1)\n",
        "axs[0].set_title('{}({:.2f})'.format(out1,prob1))\n",
        "axs[1].imshow(image2)\n",
        "axs[1].set_title('{}({:.2f})'.format(out2,prob2))"
      ],
      "execution_count": 10,
      "outputs": [
        {
          "output_type": "execute_result",
          "data": {
            "text/plain": [
              "Text(0.5, 1.0, '5(1.00)')"
            ]
          },
          "metadata": {
            "tags": []
          },
          "execution_count": 10
        },
        {
          "output_type": "display_data",
          "data": {
            "image/png": "[encoded data removed]",
            "text/plain": [
              "<Figure size 432x288 with 2 Axes>"
            ]
          },
          "metadata": {
            "tags": [],
            "needs_background": "light"
          }
        }
      ]
    },
    {
      "cell_type": "markdown",
      "metadata": {
        "id": "Jx9gWeXGc2zC",
        "colab_type": "text"
      },
      "source": [
        "# **Detect numbers in larger images**"
      ]
    },
    {
      "cell_type": "code",
      "metadata": {
        "id": "-ufycyB9c-Nu",
        "colab_type": "code",
        "colab": {
          "base_uri": "https://localhost:8080/",
          "height": 277
        },
        "outputId": "d41c1308-2b23-4c9f-d551-7a86d875a298"
      },
      "source": [
        "first_tensor = images[random_idx]\n",
        "second_tensor = images[(random_idx+1)%batch_size]\n",
        "third_tensor = images[(random_idx+2)%batch_size]\n",
        "\n",
        "black_tensor = torch.zeros_like(first_tensor)\n",
        "\n",
        "tmp_0 = torch.cat((black_tensor, black_tensor, black_tensor, black_tensor,\n",
        "                   black_tensor, black_tensor, black_tensor, third_tensor), 2)\n",
        "tmp_1 = torch.cat((black_tensor, black_tensor, black_tensor, black_tensor,\n",
        "                   black_tensor, black_tensor, black_tensor, black_tensor), 2)\n",
        "tmp_2 = torch.cat((black_tensor, black_tensor, black_tensor, black_tensor,\n",
        "                   black_tensor, black_tensor, black_tensor, black_tensor), 2)\n",
        "\n",
        "tmp_3 = torch.cat((black_tensor, black_tensor,first_tensor, second_tensor,\n",
        "                   black_tensor, black_tensor, black_tensor, black_tensor), 2)\n",
        "tmp_4 = torch.cat((black_tensor, black_tensor, black_tensor, black_tensor,\n",
        "                   black_tensor, black_tensor, black_tensor, black_tensor), 2)\n",
        "\n",
        "test_image = torch.cat((tmp_0, tmp_1, tmp_2, tmp_3, tmp_4), 1)\n",
        "\n",
        "if use_cuda:\n",
        "    test_image_numpy = test_image.cpu().numpy().squeeze()\n",
        "else : \n",
        "    test_image_numpy = test_image.numpy().squeeze()\n",
        "    \n",
        "plt.imshow(test_image_numpy)"
      ],
      "execution_count": 11,
      "outputs": [
        {
          "output_type": "execute_result",
          "data": {
            "text/plain": [
              "<matplotlib.image.AxesImage at 0x7f2cb2dea668>"
            ]
          },
          "metadata": {
            "tags": []
          },
          "execution_count": 11
        },
        {
          "output_type": "display_data",
          "data": {
            "image/png": "[encoded data removed]",
            "text/plain": [
              "<Figure size 432x288 with 1 Axes>"
            ]
          },
          "metadata": {
            "tags": [],
            "needs_background": "light"
          }
        }
      ]
    },
    {
      "cell_type": "code",
      "metadata": {
        "id": "BVABu6rhdDfx",
        "colab_type": "code",
        "colab": {
          "base_uri": "https://localhost:8080/",
          "height": 87
        },
        "outputId": "e2094842-4c00-4195-c2b9-c21f756223d8"
      },
      "source": [
        "# get predicted labels and score\n",
        "prediction = F.softmax(model(test_image.unsqueeze(dim=0)))\n",
        "values, indices = prediction.squeeze().max(0)\n",
        "# get the shape\n",
        "values.shape, indices.shape"
      ],
      "execution_count": 26,
      "outputs": [
        {
          "output_type": "stream",
          "text": [
            "/usr/local/lib/python3.6/dist-packages/ipykernel_launcher.py:1: UserWarning: Implicit dimension choice for softmax has been deprecated. Change the call to include dim=X as an argument.\n",
            "  \"\"\"Entry point for launching an IPython kernel.\n"
          ],
          "name": "stderr"
        },
        {
          "output_type": "execute_result",
          "data": {
            "text/plain": [
              "(torch.Size([29, 50]), torch.Size([29, 50]))"
            ]
          },
          "metadata": {
            "tags": []
          },
          "execution_count": 26
        }
      ]
    },
    {
      "cell_type": "code",
      "metadata": {
        "id": "Rxy5nsaYdTxp",
        "colab_type": "code",
        "colab": {}
      },
      "source": [
        "if use_cuda:\n",
        "    # score\n",
        "    values = values.cpu().detach().numpy()\n",
        "    # labels\n",
        "    indices = indices.cpu().detach().numpy()\n",
        "else :\n",
        "    values = values.detach().numpy()\n",
        "    indices = indices.detach().numpy()"
      ],
      "execution_count": 0,
      "outputs": []
    },
    {
      "cell_type": "code",
      "metadata": {
        "id": "6Bo2na3TgagN",
        "colab_type": "code",
        "colab": {}
      },
      "source": [
        "# let's define our confidence level\n",
        "CONFIDENCE_LEVEL = 0.99 "
      ],
      "execution_count": 0,
      "outputs": []
    },
    {
      "cell_type": "code",
      "metadata": {
        "id": "AGkHfStegcpA",
        "colab_type": "code",
        "colab": {
          "base_uri": "https://localhost:8080/",
          "height": 254
        },
        "outputId": "3e9ec6c3-064e-425e-9043-c77569b214b5"
      },
      "source": [
        "plt.imshow(values)\n",
        "plt.colorbar()\n",
        "height, width = indices.shape\n",
        "for y in range(height):\n",
        "        for x in range(width):\n",
        "            val = indices[y, x]\n",
        "            plt.annotate(str(val), xy=(x,y),\n",
        "                    horizontalalignment='center',\n",
        "                    verticalalignment='center', size=8,\n",
        "                    color='white' if values[y][x]<CONFIDENCE_LEVEL else 'black')"
      ],
      "execution_count": 30,
      "outputs": [
        {
          "output_type": "display_data",
          "data": {
            "image/png": "[encoded data removed]",
            "text/plain": [
              "<Figure size 432x288 with 2 Axes>"
            ]
          },
          "metadata": {
            "tags": [],
            "needs_background": "light"
          }
        }
      ]
    },
    {
      "cell_type": "markdown",
      "metadata": {
        "id": "3MF91YBhgiJP",
        "colab_type": "text"
      },
      "source": [
        "Now let's write a function that maps each output cell to a 28x28 frame in the input, let's define each frame with (y, x, y_witdth, x_width)\n",
        "The first cell in the (29, 50) output which is (0, 0) corresponds to (0, 0, 28, 28) box in the input. The second cell (0, 1) corresponds to (0, 4, 28, 28) box, in other words the step is 4."
      ]
    },
    {
      "cell_type": "code",
      "metadata": {
        "id": "j-kzg6L3glux",
        "colab_type": "code",
        "colab": {}
      },
      "source": [
        "def extract_boxes(image, step, sub_size_x=28, sub_size_y=28):\n",
        "    height, width = image.shape[0], image.shape[1]\n",
        "    nb_slides_x = (width-sub_size_x)//step + 1\n",
        "    nb_slides_y = (height-sub_size_y)//step + 1\n",
        "    location_boxes = []\n",
        "    for y in range(nb_slides_y):\n",
        "        for x in range(nb_slides_x):\n",
        "            location_boxes.append([y*step, x*step, sub_size_y, sub_size_x])\n",
        "    return np.array(location_boxes)"
      ],
      "execution_count": 0,
      "outputs": []
    },
    {
      "cell_type": "code",
      "metadata": {
        "id": "oXtZeWMegpI4",
        "colab_type": "code",
        "colab": {}
      },
      "source": [
        "location_boxes = extract_boxes(test_image_numpy, step=4)"
      ],
      "execution_count": 0,
      "outputs": []
    },
    {
      "cell_type": "code",
      "metadata": {
        "id": "XZpVw2epgr_i",
        "colab_type": "code",
        "colab": {
          "base_uri": "https://localhost:8080/",
          "height": 34
        },
        "outputId": "b026425d-981e-41b7-8b60-3f8204a6f532"
      },
      "source": [
        "len(location_boxes)"
      ],
      "execution_count": 33,
      "outputs": [
        {
          "output_type": "execute_result",
          "data": {
            "text/plain": [
              "1450"
            ]
          },
          "metadata": {
            "tags": []
          },
          "execution_count": 33
        }
      ]
    },
    {
      "cell_type": "code",
      "metadata": {
        "id": "d40BAV19gvBb",
        "colab_type": "code",
        "colab": {
          "base_uri": "https://localhost:8080/",
          "height": 34
        },
        "outputId": "18693f6c-bfbe-4c7d-d605-90022c0bd0d5"
      },
      "source": [
        "len(values.flatten())"
      ],
      "execution_count": 34,
      "outputs": [
        {
          "output_type": "execute_result",
          "data": {
            "text/plain": [
              "1450"
            ]
          },
          "metadata": {
            "tags": []
          },
          "execution_count": 34
        }
      ]
    },
    {
      "cell_type": "markdown",
      "metadata": {
        "id": "xxqGzrbHgxyR",
        "colab_type": "text"
      },
      "source": [
        "As you can see the number of bounding boxes corresponds to the number of cells in the output."
      ]
    },
    {
      "cell_type": "code",
      "metadata": {
        "id": "GUGTdKXfg1YJ",
        "colab_type": "code",
        "colab": {}
      },
      "source": [
        "# keep cells which activates more than the confidence level\n",
        "indexes_to_keep = np.where(values.flatten() > CONFIDENCE_LEVEL)[0]\n",
        "# These are the confidences and bounding boxes we want to keep for the detection\n",
        "confident_scores = values.flatten()[indexes_to_keep]\n",
        "confident_boxes = location_boxes[indexes_to_keep]\n",
        "confident_labels = indices.flatten()[indexes_to_keep]"
      ],
      "execution_count": 0,
      "outputs": []
    },
    {
      "cell_type": "code",
      "metadata": {
        "id": "wdeOe3dTg5SP",
        "colab_type": "code",
        "colab": {}
      },
      "source": [
        "def draw_predictions(image, confident_boxes):\n",
        "    for y, x, box_size_y, box_size_x in confident_boxes:\n",
        "        image = cv2.rectangle(image,(x,y),(x+box_size_x,y+box_size_y),(255,0,0),1)\n",
        "    return image"
      ],
      "execution_count": 0,
      "outputs": []
    },
    {
      "cell_type": "markdown",
      "metadata": {
        "id": "H6hyu-Phg7DK",
        "colab_type": "text"
      },
      "source": [
        "Let's draw the most confident boxes"
      ]
    },
    {
      "cell_type": "code",
      "metadata": {
        "id": "yOv1W8cag-Ec",
        "colab_type": "code",
        "colab": {
          "base_uri": "https://localhost:8080/",
          "height": 277
        },
        "outputId": "64eb06ad-6f1e-402b-ea92-2fdcf394289c"
      },
      "source": [
        "test_image_with_boxes = cv2.cvtColor(test_image_numpy.copy(), cv2.COLOR_GRAY2BGR)\n",
        "test_image_with_boxes = draw_predictions(test_image_with_boxes, confident_boxes)\n",
        "plt.imshow(test_image_with_boxes);"
      ],
      "execution_count": 37,
      "outputs": [
        {
          "output_type": "stream",
          "text": [
            "Clipping input data to the valid range for imshow with RGB data ([0..1] for floats or [0..255] for integers).\n"
          ],
          "name": "stderr"
        },
        {
          "output_type": "display_data",
          "data": {
            "image/png": "[encoded data removed]",
            "text/plain": [
              "<Figure size 432x288 with 1 Axes>"
            ]
          },
          "metadata": {
            "tags": [],
            "needs_background": "light"
          }
        }
      ]
    },
    {
      "cell_type": "code",
      "metadata": {
        "id": "zm05UtmkhBKK",
        "colab_type": "code",
        "colab": {}
      },
      "source": [
        "def expansion(bounding_boxes, slide_x = 1, slide_y=1):\n",
        "    nb_boxes = len(bounding_boxes)   \n",
        "    idx = 0\n",
        "    while idx < nb_boxes-1:\n",
        "        y1, x1, box_size_y1, box_size_x1 = bounding_boxes[idx]\n",
        "        y2, x2, box_size_y2, box_size_x2 = bounding_boxes[idx+1]      \n",
        "        if (((x1 + box_size_x1 + slide_x >= x2) or (x2 + box_size_x2 + slide_x >= x1))\n",
        "            and (y1 + box_size_y1 + slide_y >= y2)):\n",
        "            x = min(x1, x2)\n",
        "            y = min(y1, y2)\n",
        "            box_size_y = max(y2+box_size_y2, y1+box_size_y1) - min(y1,y2)\n",
        "            box_size_x = max(x2+box_size_x2, x1+box_size_x1) - min(x1,x2)\n",
        "            bounding_boxes[idx]= np.array([y, x, box_size_y, box_size_x])\n",
        "            bounding_boxes = np.delete(bounding_boxes, idx+1, axis = 0 )\n",
        "            nb_boxes = len(bounding_boxes)   \n",
        "        else:\n",
        "            idx+=1\n",
        "\n",
        "    return bounding_boxes\n",
        "        "
      ],
      "execution_count": 0,
      "outputs": []
    },
    {
      "cell_type": "code",
      "metadata": {
        "id": "kxvhUsj5hGMg",
        "colab_type": "code",
        "colab": {}
      },
      "source": [
        "bounding_boxes = expansion(confident_boxes)"
      ],
      "execution_count": 0,
      "outputs": []
    },
    {
      "cell_type": "code",
      "metadata": {
        "id": "QiZqIUhXhILU",
        "colab_type": "code",
        "colab": {
          "base_uri": "https://localhost:8080/",
          "height": 277
        },
        "outputId": "a93271ae-88bb-4a6a-8ee5-5c2d36a0b4e9"
      },
      "source": [
        "test_image_with_boxes = cv2.cvtColor(test_image_numpy.copy(), cv2.COLOR_GRAY2BGR)\n",
        "test_image_with_boxes = draw_predictions(test_image_with_boxes, bounding_boxes)\n",
        "plt.imshow(test_image_with_boxes);\n"
      ],
      "execution_count": 42,
      "outputs": [
        {
          "output_type": "stream",
          "text": [
            "Clipping input data to the valid range for imshow with RGB data ([0..1] for floats or [0..255] for integers).\n"
          ],
          "name": "stderr"
        },
        {
          "output_type": "display_data",
          "data": {
            "image/png": "[encoded data removed]",
            "text/plain": [
              "<Figure size 432x288 with 1 Axes>"
            ]
          },
          "metadata": {
            "tags": [],
            "needs_background": "light"
          }
        }
      ]
    },
    {
      "cell_type": "markdown",
      "metadata": {
        "id": "u_jGeJQ7hU6A",
        "colab_type": "text"
      },
      "source": [
        "Conclusion"
      ]
    },
    {
      "cell_type": "markdown",
      "metadata": {
        "id": "LnRey708hiR8",
        "colab_type": "text"
      },
      "source": [
        "So we've succesfully detected the numbers, but as we saw, we only used 28x28 frames to detect numbers, what if it they were bigger or very small. One solution is instead of changing the size of the frames, we can resize the input image, to make the frames bigger or smaller. We are not going to tackle this problem  and we can now easily detect the text from a given input\n"
      ]
    }
  ]
}